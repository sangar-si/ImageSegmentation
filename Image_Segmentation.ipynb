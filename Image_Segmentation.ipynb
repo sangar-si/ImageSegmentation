{
  "nbformat": 4,
  "nbformat_minor": 0,
  "metadata": {
    "colab": {
      "name": "Image Segmentation.ipynb",
      "provenance": [],
      "collapsed_sections": [],
      "mount_file_id": "11eVGcPYX-XcyZdtDtDYOQDEmEbnLgO7b",
      "authorship_tag": "ABX9TyNwp2w+OCWuk3n7QjW8h7wi"
    },
    "kernelspec": {
      "name": "python3",
      "display_name": "Python 3"
    },
    "language_info": {
      "name": "python"
    }
  },
  "cells": [
    {
      "cell_type": "code",
      "execution_count": null,
      "metadata": {
        "id": "0qH9jRdz440N"
      },
      "outputs": [],
      "source": [
        "!pip install kaggle\n",
        "!mkdir ~/.kaggle\n",
        "!cp /content/drive/MyDrive/Data/kaggle.json /root/.kaggle/kaggle.json\n",
        "!kaggle competitions download -c carvana-image-masking-challenge\n",
        "!cp /content/drive/MyDrive/Data/extract.sh /content/extract.sh\n",
        "!sh extract.sh"
      ]
    },
    {
      "cell_type": "code",
      "source": [
        "import pandas as pd\n",
        "import torch\n",
        "import torchvision\n",
        "import torch.nn as nn\n",
        "import torchvision.transforms as transforms\n",
        "import torchvision.datasets as dsets\n",
        "import torch.nn.functional as F\n",
        "from torch.optim import Adam, SGD, RMSprop\n",
        "import torch\n",
        "from torch.utils.data import Dataset, random_split\n",
        "\n",
        "import matplotlib.pylab as plt\n",
        "import numpy as np\n",
        "import cv2\n",
        "from os import listdir\n",
        "from os.path import splitext\n",
        "from pathlib import Path\n",
        "from PIL import Image\n",
        "from tqdm import tqdm"
      ],
      "metadata": {
        "id": "mTv8rdhJJdAx"
      },
      "execution_count": 81,
      "outputs": []
    },
    {
      "cell_type": "code",
      "source": [
        "df = pd.read_csv('metadata.csv')"
      ],
      "metadata": {
        "id": "eIOwcDe2MWY0"
      },
      "execution_count": 3,
      "outputs": []
    },
    {
      "cell_type": "code",
      "source": [
        "images_dir = \"/content/train\"\n",
        "mask_dir = \"/content/train_masks\"\n",
        "img_path = Path(images_dir)\n",
        "\n",
        "class LoadData(Dataset):\n",
        "  def __init__(self,img_path, mask_path, scale = 1):\n",
        "    self.img_path = Path(img_path)\n",
        "    self.mask_path = Path(mask_path)\n",
        "    self.scale = scale\n",
        "    self.img_id = [splitext(f)[0] for f in listdir(img_path) if not f.startswith(\".\")]\n",
        "\n",
        "  def __len__(self):\n",
        "    return len(self.img_id)\n",
        "\n",
        "  def __getitem__(self, idx):\n",
        "    name = self.img_id[idx]\n",
        "    mask_file = list(self.mask_path.glob(name +\"_mask\" +'.*'))\n",
        "    img_file = list(self.img_path.glob(name+'.*'))\n",
        "    mask = self.load(mask_file[0])\n",
        "    img = self.load(img_file[0])\n",
        "    mask = self.preprocess(img = mask, scale = self.scale, is_mask = True)\n",
        "    img = self.preprocess(img = img, scale = self.scale, is_mask = False)\n",
        "\n",
        "    return {\n",
        "        'image': torch.as_tensor(img.copy()).float().contiguous(),\n",
        "        'mask' : torch.as_tensor(mask.copy()).long().contiguous()\n",
        "    }\n",
        "  @classmethod\n",
        "  def load(cls,filename):\n",
        "    return Image.open(filename)\n",
        "\n",
        "  @classmethod\n",
        "  def preprocess(cls,img,scale,is_mask):\n",
        "    w, h = img.size\n",
        "    new_w, new_h = int(w * scale), int(h * scale)\n",
        "    img = img.resize((new_w, new_h), resample=Image.NEAREST if is_mask else Image.BICUBIC)\n",
        "    img_arr = np.asarray(img)\n",
        "    if img_arr.ndim == 2 and not is_mask:\n",
        "      img_arr = img_arr[np.newaxis, ...]\n",
        "    elif not is_mask:\n",
        "      img_Arr = img_arr.transpose((2,0,1))\n",
        "    if not is_mask:\n",
        "      img_arr = img_arr / 255\n",
        "    return img_arr\n"
      ],
      "metadata": {
        "id": "jSgYxxoc2qDQ"
      },
      "execution_count": 32,
      "outputs": []
    },
    {
      "cell_type": "code",
      "source": [
        "ds = LoadData(img_path = images_dir, scale = 0.5, mask_path= mask_dir)"
      ],
      "metadata": {
        "id": "ylSH_w1W3AfM"
      },
      "execution_count": 30,
      "outputs": []
    },
    {
      "cell_type": "code",
      "source": [
        "import matplotlib.pyplot as plt\n",
        "\n",
        "plt.matshow(np.asarray(ds[1]['mask']))\n",
        "plt.show()"
      ],
      "metadata": {
        "colab": {
          "base_uri": "https://localhost:8080/",
          "height": 275
        },
        "id": "P6qyIFhFpbK4",
        "outputId": "b44bdda6-ffcc-434e-c8b9-e79c50c91f0e"
      },
      "execution_count": 31,
      "outputs": [
        {
          "output_type": "display_data",
          "data": {
            "image/png": "[encoded data removed]",
            "text/plain": [
              "<Figure size 431.55x288 with 1 Axes>"
            ]
          },
          "metadata": {
            "needs_background": "light"
          }
        }
      ]
    },
    {
      "cell_type": "code",
      "source": [
        "#Model\n",
        "\n",
        "class EnBlock(nn.Module):\n",
        "  def __init__(self, in_ch, out_ch):\n",
        "    super().__init__()\n",
        "    self.convBlock = nn.Sequential(nn.Conv2d(in_ch, out_ch, 3), nn.ReLU(), nn.Conv2d(out_ch, out_ch, 3), nn.ReLU())\n",
        "  def forward(self, x):\n",
        "    return self.convBlock(x)\n",
        "\n",
        "class Encoder(nn.Module):\n",
        "  def __init__(self, chnls = (3,64,128,256,512,1024)):\n",
        "    super().__init__()\n",
        "    self.en_blocks = nn.ModuleList([EnBlock(chnls[i], chnls[i+1]) for i in range(len(chnls)-1)])\n",
        "    self.pool = nn.MaxPool2d(2)\n",
        "\n",
        "  def forward(self,x):\n",
        "    enc_features = []\n",
        "    for block in self.en_blocks:\n",
        "      x = block(x)\n",
        "      enc_features.append(x)\n",
        "      x = self.pool(x)\n",
        "    return enc_features\n",
        "\n",
        "class DeBlock(nn.Module):\n",
        "  def __init__(self, in_ch, out_ch):\n",
        "    super().__init__()\n",
        "    self.upConv = nn.ConvTranspose2d(in_ch, out_ch, 2, 2)\n",
        "    self.decBlock = EnBlock(in_ch, out_ch)\n",
        "\n",
        "  def crop(self, enc_features, x):\n",
        "    _,_,h,w = x.shape\n",
        "    enc_features   = torchvision.transforms.CenterCrop([h, w])(enc_features) \n",
        "    return enc_features\n",
        "\n",
        "  def forward(self, x, enc_features):\n",
        "    x = self.upConv(x)\n",
        "    enc_f = self.crop(enc_features,x)\n",
        "    x = torch.cat([x, enc_f], dim=1)\n",
        "    x = self.decBlock(x)\n",
        "    return x\n",
        "\n",
        "class Decoder(nn.Module):\n",
        "  def __init__(self, chnls = (1024, 512, 256, 128, 64)):\n",
        "    super().__init__()\n",
        "    self.chnls = chnls\n",
        "    self.de_blocks = nn.ModuleList([DeBlock(chnls[i], chnls[i+1]) for i in range(len(chnls)-1)])\n",
        "\n",
        "  def forward(self,x,enc_features):\n",
        "    for i in range(len(self.chnls)-1):\n",
        "      x = self.de_blocks[i](x, enc_features[i])\n",
        "    return x\n",
        "\n",
        "class UNet(nn.Module):\n",
        "  def __init__(self, enc_chnls = (3,64,128,256,512,1024), dec_chnls = (1024, 512, 256, 128, 64), num_class = 1, retain_dim=False, out_sz=(572,572)):\n",
        "    super().__init__()\n",
        "    self.encoder = Encoder(enc_chnls)\n",
        "    self.decoder = Decoder(dec_chnls)\n",
        "    self.head = nn.Conv2d(dec_chnls[-1],num_class, 1)\n",
        "    self.retain_dim = retain_dim\n",
        "    self.out_sz = out_sz\n",
        "  \n",
        "  def forward(self,x):\n",
        "    enc_features = self.encoder(x)\n",
        "    out = self.decoder(enc_features[::-1][0], enc_features[::-1][1:])\n",
        "    out = self.head(out)\n",
        "    if self.retain_dim:\n",
        "      out = F.interpolate(out, self.out_sz)\n",
        "    return out\n",
        "\n",
        "class CEDiceLoss(nn.Module):\n",
        "  def __init__(self, weights = None, size_average = True):\n",
        "    super(CEDiceLoss,self).__init__()\n",
        "\n",
        "  def forward(self, mask_pred, mask_true, smooth = 1):\n",
        "    CELoss = nn.CrossEntropyLoss(mask_pred, mask_true)\n",
        "    mask_pred = F.softmax(mask_pred)\n",
        "    mask_pred = mask_pred.view(-1)\n",
        "    mask_true = mask_true.view(-1)\n",
        "    intersection = (mask_pred * mask_true).sum()\n",
        "    dice_loss = 1 - (2 * intersection + smooth) / (mask_pred.sum() + mask_true.sum() + smooth)\n",
        "    return CELoss+dice_loss\n",
        "      \n",
        "\n"
      ],
      "metadata": {
        "id": "yyRUHLwvukPJ"
      },
      "execution_count": 75,
      "outputs": []
    },
    {
      "cell_type": "code",
      "source": [
        "def train(net, epochs, batch_size, lr, device, scale, val_percent, amp):\n",
        "  images_dir = \"/content/train\"\n",
        "  mask_dir = \"/content/train_masks\"\n",
        "  img_path = Path(images_dir)\n",
        "  ds = LoadData(img_path = images_dir, scale = scale, mask_path= mask_dir)\n",
        "\n",
        "  n_val = int(len(ds) * val_percent)\n",
        "  n_train = len(ds) - n_val\n",
        "  train_set, val_set = random_split(ds, [n_train, n_val], generator=torch.Generator().manual_seed(0))\n",
        "\n",
        "  loader_args = dict(batch_size = batch_size, num_workers = 4, pin_memory = True)\n",
        "  train_loader = DataLoader(train_set, shuffle=True, **loader_args)\n",
        "  val_loader = DataLoader(val_set, shuffle=False, drop_last = True, **loader_args) \n",
        "\n",
        "  optimizer = RMSProp(net.parameters(), lr = lr, weight_decay = 1e-8, momentum = 0.9)\n",
        "  scheduler = optim.lr_scheduler.ReduceLROnPlateau(optimizer, 'max', patience=2)  # goal: maximize Dice score\n",
        "  grad_scaler = torch.cuda.amp.GradScaler(enabled=amp)\n",
        "  criterion = nn.CrossEntropyLoss()\n",
        "  global_step = 0\n",
        "\n",
        "  for epoch in range(epochs):\n",
        "    net.train()\n",
        "    with tqdm(total = n_train, desc = f'Epoch {epoch + 1}/{epochs}', unit = 'img') as pbar:\n",
        "      for batch in train_loader:\n",
        "        imgs = batch['image']\n",
        "        masks = batch['mask']\n",
        "        imgs = imgs.to(device=device, dtype = torch.float32)\n",
        "        masks = masks.to(device=device, dtype = long)\n",
        "\n",
        "        with torch.cuda.amp.autocast(enabled = amp):\n",
        "          mask_pred = net(imgs)\n",
        "          loss = criterion(mask_pred, mask)\\\n",
        "                           + dice_loss(F.softmax(masks_pred, dim=1).float(),\n",
        "                                       F.one_hot(true_masks, net.n_classes).permute(0, 3, 1, 2).float(),\n",
        "                                       multiclass=True)\n",
        "        optimizer.zero_grad(set_to_none = True)\n",
        "        grad_scaler.scale(loss).backward()\n",
        "        grad_scaler.step(optimizer)\n",
        "        grad_scaler.update()\n",
        "\n",
        "        pbar.update(imgs.shape[0])\n",
        "        global_step +=1\n",
        "        epoch_loss += loss.item()\n",
        "        pbar.set_postfix(**{'loss (batch)': loss.item()})\n",
        "\n",
        "        #Eval\n",
        "        div_step = (n_train//(10*batch_size))\n",
        "        if div_step > 0:\n",
        "          if global_step % div_step == 0:\n",
        "            val_score = evaluate(net, val_loader, device)\n",
        "            scheduler.step(val_score)\n",
        "    if save_checkpoint:\n",
        "      try:\n",
        "        torch.save(net.state_dict(),\"unet\"+str(epoch)+\".pth\")\n",
        "      except:\n",
        "        print(\"Save failed\")"
      ],
      "metadata": {
        "id": "8kt4vXAZYPVj"
      },
      "execution_count": 83,
      "outputs": []
    },
    {
      "cell_type": "code",
      "source": [
        "net = UNet(num_class=2)\n",
        "device = torch.device('cuda' if torch.cuda.is_available() else 'cpu')\n",
        "net.to(device = device)\n",
        "train(net=net, epochs = 3, batch_size = 10, lr = 0.00001, device = device, scale = 0.5, val_percent = 10/100, amp = False)\n"
      ],
      "metadata": {
        "id": "SvaDIzAx6IO6"
      },
      "execution_count": null,
      "outputs": []
    }
  ]
}